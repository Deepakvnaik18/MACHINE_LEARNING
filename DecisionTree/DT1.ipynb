{
 "cells": [
  {
   "cell_type": "code",
   "execution_count": 638,
   "id": "6fd5f88d",
   "metadata": {},
   "outputs": [],
   "source": [
    "import pandas as pd\n",
    "from sklearn.model_selection import train_test_split,GridSearchCV\n",
    "from sklearn.tree import DecisionTreeClassifier\n",
    "from sklearn.compose import ColumnTransformer\n",
    "from sklearn.pipeline import Pipeline\n",
    "from sklearn.preprocessing import OneHotEncoder,LabelEncoder,StandardScaler\n",
    "\n",
    "\n"
   ]
  },
  {
   "cell_type": "code",
   "execution_count": 639,
   "id": "cb011e10",
   "metadata": {},
   "outputs": [
    {
     "data": {
      "text/html": [
       "<div>\n",
       "<style scoped>\n",
       "    .dataframe tbody tr th:only-of-type {\n",
       "        vertical-align: middle;\n",
       "    }\n",
       "\n",
       "    .dataframe tbody tr th {\n",
       "        vertical-align: top;\n",
       "    }\n",
       "\n",
       "    .dataframe thead th {\n",
       "        text-align: right;\n",
       "    }\n",
       "</style>\n",
       "<table border=\"1\" class=\"dataframe\">\n",
       "  <thead>\n",
       "    <tr style=\"text-align: right;\">\n",
       "      <th></th>\n",
       "      <th>Retirement_Age</th>\n",
       "      <th>Debt_Amount</th>\n",
       "      <th>Monthly_Savings</th>\n",
       "      <th>Loan_Default_Risk</th>\n",
       "    </tr>\n",
       "  </thead>\n",
       "  <tbody>\n",
       "    <tr>\n",
       "      <th>0</th>\n",
       "      <td>60.0</td>\n",
       "      <td>2996.52</td>\n",
       "      <td>2378.49</td>\n",
       "      <td>0</td>\n",
       "    </tr>\n",
       "    <tr>\n",
       "      <th>1</th>\n",
       "      <td>66.4</td>\n",
       "      <td>4137.23</td>\n",
       "      <td>1538.92</td>\n",
       "      <td>1</td>\n",
       "    </tr>\n",
       "    <tr>\n",
       "      <th>2</th>\n",
       "      <td>58.5</td>\n",
       "      <td>19865.75</td>\n",
       "      <td>2434.80</td>\n",
       "      <td>1</td>\n",
       "    </tr>\n",
       "    <tr>\n",
       "      <th>3</th>\n",
       "      <td>49.8</td>\n",
       "      <td>16855.70</td>\n",
       "      <td>2677.82</td>\n",
       "      <td>1</td>\n",
       "    </tr>\n",
       "    <tr>\n",
       "      <th>4</th>\n",
       "      <td>67.3</td>\n",
       "      <td>7902.37</td>\n",
       "      <td>2206.72</td>\n",
       "      <td>0</td>\n",
       "    </tr>\n",
       "  </tbody>\n",
       "</table>\n",
       "</div>"
      ],
      "text/plain": [
       "   Retirement_Age  Debt_Amount  Monthly_Savings  Loan_Default_Risk\n",
       "0            60.0      2996.52          2378.49                  0\n",
       "1            66.4      4137.23          1538.92                  1\n",
       "2            58.5     19865.75          2434.80                  1\n",
       "3            49.8     16855.70          2677.82                  1\n",
       "4            67.3      7902.37          2206.72                  0"
      ]
     },
     "execution_count": 639,
     "metadata": {},
     "output_type": "execute_result"
    }
   ],
   "source": [
    "df = pd.read_csv(\"loan_default_risk_dataset.csv\")\n",
    "\n",
    "df.head()"
   ]
  },
  {
   "cell_type": "code",
   "execution_count": 640,
   "id": "1bba3194",
   "metadata": {},
   "outputs": [
    {
     "data": {
      "text/plain": [
       "Retirement_Age       0\n",
       "Debt_Amount          1\n",
       "Monthly_Savings      2\n",
       "Loan_Default_Risk    0\n",
       "dtype: int64"
      ]
     },
     "execution_count": 640,
     "metadata": {},
     "output_type": "execute_result"
    }
   ],
   "source": [
    "df.isnull().sum()"
   ]
  },
  {
   "cell_type": "code",
   "execution_count": 641,
   "id": "b36863b0",
   "metadata": {},
   "outputs": [
    {
     "name": "stdout",
     "output_type": "stream",
     "text": [
      "<class 'pandas.core.frame.DataFrame'>\n",
      "RangeIndex: 300 entries, 0 to 299\n",
      "Data columns (total 4 columns):\n",
      " #   Column             Non-Null Count  Dtype  \n",
      "---  ------             --------------  -----  \n",
      " 0   Retirement_Age     300 non-null    float64\n",
      " 1   Debt_Amount        299 non-null    float64\n",
      " 2   Monthly_Savings    298 non-null    float64\n",
      " 3   Loan_Default_Risk  300 non-null    int64  \n",
      "dtypes: float64(3), int64(1)\n",
      "memory usage: 9.5 KB\n"
     ]
    }
   ],
   "source": [
    "df.info()"
   ]
  },
  {
   "cell_type": "code",
   "execution_count": 642,
   "id": "ae6a43ad",
   "metadata": {},
   "outputs": [],
   "source": [
    "# df.dropna(inplace=True)"
   ]
  },
  {
   "cell_type": "code",
   "execution_count": 643,
   "id": "5be3abbd",
   "metadata": {},
   "outputs": [
    {
     "data": {
      "text/plain": [
       "np.float64(15704.173946488294)"
      ]
     },
     "execution_count": 643,
     "metadata": {},
     "output_type": "execute_result"
    }
   ],
   "source": [
    "Debt_Amount_mean = df[\"Debt_Amount\"].mean()\n",
    "\n",
    "Monthly_savings = df[\"Monthly_Savings\"].mean()\n",
    "\n",
    "# Debt_Amount_mean\n",
    "# # Monthly_savings\n",
    "# # df[df['Debt_Amount']==15704.173946488294]\n",
    "Debt_Amount_mean\n",
    "# Monthly_savings\n"
   ]
  },
  {
   "cell_type": "code",
   "execution_count": 644,
   "id": "da9d1b0e",
   "metadata": {},
   "outputs": [],
   "source": [
    "df[\"Debt_Amount\"] = df[\"Debt_Amount\"].fillna(Debt_Amount_mean)\n",
    "df[\"Monthly_Savings\"] = df[\"Monthly_Savings\"].fillna(Monthly_savings)"
   ]
  },
  {
   "cell_type": "code",
   "execution_count": 645,
   "id": "62dcd1a4",
   "metadata": {},
   "outputs": [],
   "source": [
    "# df[\"Monthly_Savings\"].mode()"
   ]
  },
  {
   "cell_type": "code",
   "execution_count": 646,
   "id": "413eddb7",
   "metadata": {},
   "outputs": [
    {
     "data": {
      "text/plain": [
       "np.float64(15704.173946488294)"
      ]
     },
     "execution_count": 646,
     "metadata": {},
     "output_type": "execute_result"
    }
   ],
   "source": [
    "df[\"Debt_Amount\"].mean()\n",
    "# df[\"Monthly_Savings\"].mean()"
   ]
  },
  {
   "cell_type": "code",
   "execution_count": 647,
   "id": "45730e21",
   "metadata": {},
   "outputs": [
    {
     "name": "stdout",
     "output_type": "stream",
     "text": [
      "<class 'pandas.core.frame.DataFrame'>\n",
      "RangeIndex: 300 entries, 0 to 299\n",
      "Data columns (total 4 columns):\n",
      " #   Column             Non-Null Count  Dtype  \n",
      "---  ------             --------------  -----  \n",
      " 0   Retirement_Age     300 non-null    float64\n",
      " 1   Debt_Amount        300 non-null    float64\n",
      " 2   Monthly_Savings    300 non-null    float64\n",
      " 3   Loan_Default_Risk  300 non-null    int64  \n",
      "dtypes: float64(3), int64(1)\n",
      "memory usage: 9.5 KB\n"
     ]
    }
   ],
   "source": [
    "df.info()"
   ]
  },
  {
   "cell_type": "code",
   "execution_count": 648,
   "id": "3c3e986f",
   "metadata": {},
   "outputs": [
    {
     "data": {
      "text/html": [
       "<div>\n",
       "<style scoped>\n",
       "    .dataframe tbody tr th:only-of-type {\n",
       "        vertical-align: middle;\n",
       "    }\n",
       "\n",
       "    .dataframe tbody tr th {\n",
       "        vertical-align: top;\n",
       "    }\n",
       "\n",
       "    .dataframe thead th {\n",
       "        text-align: right;\n",
       "    }\n",
       "</style>\n",
       "<table border=\"1\" class=\"dataframe\">\n",
       "  <thead>\n",
       "    <tr style=\"text-align: right;\">\n",
       "      <th></th>\n",
       "      <th>Retirement_Age</th>\n",
       "      <th>Debt_Amount</th>\n",
       "      <th>Monthly_Savings</th>\n",
       "      <th>Loan_Default_Risk</th>\n",
       "    </tr>\n",
       "  </thead>\n",
       "  <tbody>\n",
       "    <tr>\n",
       "      <th>0</th>\n",
       "      <td>60.0</td>\n",
       "      <td>2996.52</td>\n",
       "      <td>2378.49</td>\n",
       "      <td>0</td>\n",
       "    </tr>\n",
       "    <tr>\n",
       "      <th>1</th>\n",
       "      <td>66.4</td>\n",
       "      <td>4137.23</td>\n",
       "      <td>1538.92</td>\n",
       "      <td>1</td>\n",
       "    </tr>\n",
       "    <tr>\n",
       "      <th>2</th>\n",
       "      <td>58.5</td>\n",
       "      <td>19865.75</td>\n",
       "      <td>2434.80</td>\n",
       "      <td>1</td>\n",
       "    </tr>\n",
       "    <tr>\n",
       "      <th>3</th>\n",
       "      <td>49.8</td>\n",
       "      <td>16855.70</td>\n",
       "      <td>2677.82</td>\n",
       "      <td>1</td>\n",
       "    </tr>\n",
       "    <tr>\n",
       "      <th>4</th>\n",
       "      <td>67.3</td>\n",
       "      <td>7902.37</td>\n",
       "      <td>2206.72</td>\n",
       "      <td>0</td>\n",
       "    </tr>\n",
       "  </tbody>\n",
       "</table>\n",
       "</div>"
      ],
      "text/plain": [
       "   Retirement_Age  Debt_Amount  Monthly_Savings  Loan_Default_Risk\n",
       "0            60.0      2996.52          2378.49                  0\n",
       "1            66.4      4137.23          1538.92                  1\n",
       "2            58.5     19865.75          2434.80                  1\n",
       "3            49.8     16855.70          2677.82                  1\n",
       "4            67.3      7902.37          2206.72                  0"
      ]
     },
     "execution_count": 648,
     "metadata": {},
     "output_type": "execute_result"
    }
   ],
   "source": [
    "df.head()"
   ]
  },
  {
   "cell_type": "code",
   "execution_count": 649,
   "id": "a2991c16",
   "metadata": {},
   "outputs": [],
   "source": [
    "x = df.drop(columns=(\"Loan_Default_Risk\"),axis=1)\n",
    "\n",
    "y = df[\"Loan_Default_Risk\"]\n",
    "\n",
    "xtrain,xtest,ytrain,ytest = train_test_split(x,y,train_size=0.8,random_state=42)"
   ]
  },
  {
   "cell_type": "code",
   "execution_count": 650,
   "id": "177676e0",
   "metadata": {},
   "outputs": [
    {
     "data": {
      "text/plain": [
       "Loan_Default_Risk\n",
       "0    150\n",
       "1    150\n",
       "Name: count, dtype: int64"
      ]
     },
     "execution_count": 650,
     "metadata": {},
     "output_type": "execute_result"
    }
   ],
   "source": [
    "df['Loan_Default_Risk'].value_counts()"
   ]
  },
  {
   "cell_type": "code",
   "execution_count": 651,
   "id": "8cc67719",
   "metadata": {},
   "outputs": [],
   "source": [
    "model = DecisionTreeClassifier(random_state=42)"
   ]
  },
  {
   "cell_type": "code",
   "execution_count": 652,
   "id": "43b469b7",
   "metadata": {},
   "outputs": [],
   "source": [
    "# model.fit(xtrain,ytrain)"
   ]
  },
  {
   "cell_type": "code",
   "execution_count": 653,
   "id": "0ca646a6",
   "metadata": {},
   "outputs": [],
   "source": [
    "# model.score(xtest,ytest)"
   ]
  },
  {
   "cell_type": "code",
   "execution_count": 654,
   "id": "56e8ec67",
   "metadata": {},
   "outputs": [],
   "source": [
    "# model.score(xtrain,ytrain)"
   ]
  },
  {
   "cell_type": "code",
   "execution_count": 655,
   "id": "0284956a",
   "metadata": {},
   "outputs": [],
   "source": [
    "# model.get_depth()"
   ]
  },
  {
   "cell_type": "code",
   "execution_count": 656,
   "id": "ee22d224",
   "metadata": {},
   "outputs": [
    {
     "data": {
      "text/plain": [
       "Index(['Retirement_Age', 'Debt_Amount', 'Monthly_Savings'], dtype='object')"
      ]
     },
     "execution_count": 656,
     "metadata": {},
     "output_type": "execute_result"
    }
   ],
   "source": [
    "num_col = x.select_dtypes(include=[\"int64\",\"float64\"]).columns\n",
    "num_col"
   ]
  },
  {
   "cell_type": "code",
   "execution_count": null,
   "id": "da1a40f3",
   "metadata": {},
   "outputs": [],
   "source": [
    "params={\n",
    "    'criterion':['gini','entropy'],\n",
    "    'min_samples_split':[2,3,5,10],\n",
    "    'max_depth':[5,10,50,100,200],\n",
    "    'min_samples_leaf':[2,3,5,7,10]\n",
    "}\n",
    "# gridsearch= GridSearchCV(model,params,cv=5,n_jobs=-1)\n",
    "# gridsearch.fit(xtrain,ytrain)\n",
    "# gridsearch.score(xtest,ytest)"
   ]
  },
  {
   "cell_type": "code",
   "execution_count": 658,
   "id": "5f1c4c18",
   "metadata": {},
   "outputs": [],
   "source": [
    "# gridsearch.best_params_"
   ]
  },
  {
   "cell_type": "code",
   "execution_count": 659,
   "id": "4a755e35",
   "metadata": {},
   "outputs": [],
   "source": [
    "# gridsearch.best_score_"
   ]
  },
  {
   "cell_type": "code",
   "execution_count": 660,
   "id": "c108f1b1",
   "metadata": {},
   "outputs": [],
   "source": [
    "from sklearn.impute import SimpleImputer\n",
    "preprocessor = ColumnTransformer(\n",
    "    transformers=[\n",
    "        ('pre',Pipeline(\n",
    "            steps=[\n",
    "                # ('impute',SimpleImputer(strategy=\"mean\")),\n",
    "        \t\t\t\t\t\t\t\t(\"stand\",StandardScaler()\n",
    "                )\n",
    "\t\t\t\t\t\t\t\t\t\t\t\t\t\t\t\t]\n",
    "\t\t\t\t\t\t\t\t),num_col)\n",
    "    ]\n",
    ")"
   ]
  },
  {
   "cell_type": "code",
   "execution_count": 672,
   "id": "eaf26e57",
   "metadata": {},
   "outputs": [],
   "source": [
    "pipeline = Pipeline(\n",
    "    steps=[\n",
    "        (\"preprocessing\",preprocessor),\n",
    "        (\"model\",model)\n",
    "\t\t\t\t]\n",
    ")\n",
    "# params={\n",
    "#     'model__criterion':['gini'],\n",
    "#     'model__min_samples_split':[2,3,5,10],\n",
    "#     'model__max_depth':[5,10,50,100,200],\n",
    "#     'model__min_samples_leaf':[2,3,5,7,10]\n",
    "# }\n",
    "grid = GridSearchCV(model,params,cv=5,n_jobs=-1)"
   ]
  },
  {
   "cell_type": "code",
   "execution_count": 2,
   "id": "005ea54d",
   "metadata": {},
   "outputs": [
    {
     "ename": "NameError",
     "evalue": "name 'grid' is not defined",
     "output_type": "error",
     "traceback": [
      "\u001b[1;31m---------------------------------------------------------------------------\u001b[0m",
      "\u001b[1;31mNameError\u001b[0m                                 Traceback (most recent call last)",
      "Cell \u001b[1;32mIn[2], line 1\u001b[0m\n\u001b[1;32m----> 1\u001b[0m \u001b[43mgrid\u001b[49m\u001b[38;5;241m.\u001b[39mfit(xtrain,ytrain)\n",
      "\u001b[1;31mNameError\u001b[0m: name 'grid' is not defined"
     ]
    }
   ],
   "source": [
    "grid.fit(xtrain,ytrain)"
   ]
  },
  {
   "cell_type": "code",
   "execution_count": 663,
   "id": "75347f20",
   "metadata": {},
   "outputs": [],
   "source": [
    "# pd.DataFrame(grid.cv_results_)"
   ]
  },
  {
   "cell_type": "code",
   "execution_count": 664,
   "id": "20cd6e64",
   "metadata": {},
   "outputs": [
    {
     "data": {
      "text/plain": [
       "{'model__criterion': 'gini',\n",
       " 'model__max_depth': 10,\n",
       " 'model__min_samples_leaf': 3,\n",
       " 'model__min_samples_split': 2}"
      ]
     },
     "execution_count": 664,
     "metadata": {},
     "output_type": "execute_result"
    }
   ],
   "source": [
    "grid.best_params_\n"
   ]
  },
  {
   "cell_type": "code",
   "execution_count": 665,
   "id": "9a7b499a",
   "metadata": {},
   "outputs": [
    {
     "data": {
      "text/plain": [
       "0.9"
      ]
     },
     "execution_count": 665,
     "metadata": {},
     "output_type": "execute_result"
    }
   ],
   "source": [
    "grid.score(xtest,ytest)"
   ]
  },
  {
   "cell_type": "code",
   "execution_count": 666,
   "id": "026d6c2d",
   "metadata": {},
   "outputs": [
    {
     "data": {
      "text/plain": [
       "0.975"
      ]
     },
     "execution_count": 666,
     "metadata": {},
     "output_type": "execute_result"
    }
   ],
   "source": [
    "grid.score(xtrain,ytrain)"
   ]
  },
  {
   "cell_type": "code",
   "execution_count": null,
   "id": "4f9786b9",
   "metadata": {},
   "outputs": [],
   "source": []
  },
  {
   "cell_type": "code",
   "execution_count": null,
   "id": "eedbffdc",
   "metadata": {},
   "outputs": [],
   "source": []
  }
 ],
 "metadata": {
  "kernelspec": {
   "display_name": "Python 3",
   "language": "python",
   "name": "python3"
  },
  "language_info": {
   "codemirror_mode": {
    "name": "ipython",
    "version": 3
   },
   "file_extension": ".py",
   "mimetype": "text/x-python",
   "name": "python",
   "nbconvert_exporter": "python",
   "pygments_lexer": "ipython3",
   "version": "3.13.1"
  }
 },
 "nbformat": 4,
 "nbformat_minor": 5
}
